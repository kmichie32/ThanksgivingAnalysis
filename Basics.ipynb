{
 "cells": [
  {
   "cell_type": "code",
   "execution_count": 20,
   "metadata": {
    "collapsed": false
   },
   "outputs": [
    {
     "name": "stdout",
     "output_type": "stream",
     "text": [
      "   RespondentID Do you celebrate Thanksgiving?  \\\n",
      "0    4337954960                            Yes   \n",
      "1    4337951949                            Yes   \n",
      "\n",
      "  What is typically the main dish at your Thanksgiving dinner?  \\\n",
      "0                                             Turkey             \n",
      "1                                             Turkey             \n",
      "\n",
      "  What is typically the main dish at your Thanksgiving dinner? - Other (please specify)  \\\n",
      "0                                                NaN                                      \n",
      "1                                                NaN                                      \n",
      "\n",
      "  How is the main dish typically cooked?  \\\n",
      "0                                  Baked   \n",
      "1                                  Baked   \n",
      "\n",
      "  How is the main dish typically cooked? - Other (please specify)  \\\n",
      "0                                                NaN                \n",
      "1                                                NaN                \n",
      "\n",
      "  What kind of stuffing/dressing do you typically have?  \\\n",
      "0                                        Bread-based      \n",
      "1                                        Bread-based      \n",
      "\n",
      "  What kind of stuffing/dressing do you typically have? - Other (please specify)  \\\n",
      "0                                                NaN                               \n",
      "1                                                NaN                               \n",
      "\n",
      "  What type of cranberry saucedo you typically have?  \\\n",
      "0                                               None   \n",
      "1                             Other (please specify)   \n",
      "\n",
      "  What type of cranberry saucedo you typically have? - Other (please specify)  \\\n",
      "0                                                NaN                            \n",
      "1                    Homemade cranberry gelatin ring                            \n",
      "\n",
      "          ...          \\\n",
      "0         ...           \n",
      "1         ...           \n",
      "\n",
      "  Have you ever tried to meet up with hometown friends on Thanksgiving night?  \\\n",
      "0                                                Yes                            \n",
      "1                                                 No                            \n",
      "\n",
      "  Have you ever attended a \"Friendsgiving?\"  \\\n",
      "0                                        No   \n",
      "1                                        No   \n",
      "\n",
      "  Will you shop any Black Friday sales on Thanksgiving Day?  \\\n",
      "0                                                 No          \n",
      "1                                                Yes          \n",
      "\n",
      "  Do you work in retail? Will you employer make you work on Black Friday?  \\\n",
      "0                     No                                              NaN   \n",
      "1                     No                                              NaN   \n",
      "\n",
      "  How would you describe where you live?      Age What is your gender?  \\\n",
      "0                               Suburban  18 - 29                 Male   \n",
      "1                                  Rural  18 - 29               Female   \n",
      "\n",
      "  How much total combined money did all members of your HOUSEHOLD earn last year?  \\\n",
      "0                                 $75,000 to $99,999                                \n",
      "1                                 $50,000 to $74,999                                \n",
      "\n",
      "            US Region  \n",
      "0     Middle Atlantic  \n",
      "1  East South Central  \n",
      "\n",
      "[2 rows x 65 columns]\n"
     ]
    }
   ],
   "source": [
    "import pandas as pd\n",
    "\n",
    "data = pd.read_csv(\"thanksgiving.csv\", encoding = \"Latin-1\")\n",
    "\n",
    "print(data.head(2))"
   ]
  },
  {
   "cell_type": "code",
   "execution_count": 21,
   "metadata": {
    "collapsed": false
   },
   "outputs": [
    {
     "name": "stdout",
     "output_type": "stream",
     "text": [
      "['RespondentID' 'Do you celebrate Thanksgiving?'\n",
      " 'What is typically the main dish at your Thanksgiving dinner?'\n",
      " 'What is typically the main dish at your Thanksgiving dinner? - Other (please specify)'\n",
      " 'How is the main dish typically cooked?'\n",
      " 'How is the main dish typically cooked? - Other (please specify)'\n",
      " 'What kind of stuffing/dressing do you typically have?'\n",
      " 'What kind of stuffing/dressing do you typically have? - Other (please specify)'\n",
      " 'What type of cranberry saucedo you typically have?'\n",
      " 'What type of cranberry saucedo you typically have? - Other (please specify)'\n",
      " 'Do you typically have gravy?'\n",
      " 'Which of these side dishes aretypically served at your Thanksgiving dinner? Please select all that apply. - Brussel sprouts'\n",
      " 'Which of these side dishes aretypically served at your Thanksgiving dinner? Please select all that apply. - Carrots'\n",
      " 'Which of these side dishes aretypically served at your Thanksgiving dinner? Please select all that apply. - Cauliflower'\n",
      " 'Which of these side dishes aretypically served at your Thanksgiving dinner? Please select all that apply. - Corn'\n",
      " 'Which of these side dishes aretypically served at your Thanksgiving dinner? Please select all that apply. - Cornbread'\n",
      " 'Which of these side dishes aretypically served at your Thanksgiving dinner? Please select all that apply. - Fruit salad'\n",
      " 'Which of these side dishes aretypically served at your Thanksgiving dinner? Please select all that apply. - Green beans/green bean casserole'\n",
      " 'Which of these side dishes aretypically served at your Thanksgiving dinner? Please select all that apply. - Macaroni and cheese'\n",
      " 'Which of these side dishes aretypically served at your Thanksgiving dinner? Please select all that apply. - Mashed potatoes'\n",
      " 'Which of these side dishes aretypically served at your Thanksgiving dinner? Please select all that apply. - Rolls/biscuits'\n",
      " 'Which of these side dishes aretypically served at your Thanksgiving dinner? Please select all that apply. - Squash'\n",
      " 'Which of these side dishes aretypically served at your Thanksgiving dinner? Please select all that apply. - Vegetable salad'\n",
      " 'Which of these side dishes aretypically served at your Thanksgiving dinner? Please select all that apply. - Yams/sweet potato casserole'\n",
      " 'Which of these side dishes aretypically served at your Thanksgiving dinner? Please select all that apply. - Other (please specify)'\n",
      " 'Which of these side dishes aretypically served at your Thanksgiving dinner? Please select all that apply. - Other (please specify).1'\n",
      " 'Which type of pie is typically served at your Thanksgiving dinner? Please select all that apply. - Apple'\n",
      " 'Which type of pie is typically served at your Thanksgiving dinner? Please select all that apply. - Buttermilk'\n",
      " 'Which type of pie is typically served at your Thanksgiving dinner? Please select all that apply. - Cherry'\n",
      " 'Which type of pie is typically served at your Thanksgiving dinner? Please select all that apply. - Chocolate'\n",
      " 'Which type of pie is typically served at your Thanksgiving dinner? Please select all that apply. - Coconut cream'\n",
      " 'Which type of pie is typically served at your Thanksgiving dinner? Please select all that apply. - Key lime'\n",
      " 'Which type of pie is typically served at your Thanksgiving dinner? Please select all that apply. - Peach'\n",
      " 'Which type of pie is typically served at your Thanksgiving dinner? Please select all that apply. - Pecan'\n",
      " 'Which type of pie is typically served at your Thanksgiving dinner? Please select all that apply. - Pumpkin'\n",
      " 'Which type of pie is typically served at your Thanksgiving dinner? Please select all that apply. - Sweet Potato'\n",
      " 'Which type of pie is typically served at your Thanksgiving dinner? Please select all that apply. - None'\n",
      " 'Which type of pie is typically served at your Thanksgiving dinner? Please select all that apply. - Other (please specify)'\n",
      " 'Which type of pie is typically served at your Thanksgiving dinner? Please select all that apply. - Other (please specify).1'\n",
      " 'Which of these desserts do you typically have at Thanksgiving dinner? Please select all that apply.   - Apple cobbler'\n",
      " 'Which of these desserts do you typically have at Thanksgiving dinner? Please select all that apply.   - Blondies'\n",
      " 'Which of these desserts do you typically have at Thanksgiving dinner? Please select all that apply.   - Brownies'\n",
      " 'Which of these desserts do you typically have at Thanksgiving dinner? Please select all that apply.   - Carrot cake'\n",
      " 'Which of these desserts do you typically have at Thanksgiving dinner? Please select all that apply.   - Cheesecake'\n",
      " 'Which of these desserts do you typically have at Thanksgiving dinner? Please select all that apply.   - Cookies'\n",
      " 'Which of these desserts do you typically have at Thanksgiving dinner? Please select all that apply.   - Fudge'\n",
      " 'Which of these desserts do you typically have at Thanksgiving dinner? Please select all that apply.   - Ice cream'\n",
      " 'Which of these desserts do you typically have at Thanksgiving dinner? Please select all that apply.   - Peach cobbler'\n",
      " 'Which of these desserts do you typically have at Thanksgiving dinner? Please select all that apply.   - None'\n",
      " 'Which of these desserts do you typically have at Thanksgiving dinner? Please select all that apply.   - Other (please specify)'\n",
      " 'Which of these desserts do you typically have at Thanksgiving dinner? Please select all that apply.   - Other (please specify).1'\n",
      " 'Do you typically pray before or after the Thanksgiving meal?'\n",
      " 'How far will you travel for Thanksgiving?'\n",
      " \"Will you watch any of the following programs on Thanksgiving? Please select all that apply. - Macy's Parade\"\n",
      " 'What\\'s the age cutoff at your \"kids\\' table\" at Thanksgiving?'\n",
      " 'Have you ever tried to meet up with hometown friends on Thanksgiving night?'\n",
      " 'Have you ever attended a \"Friendsgiving?\"'\n",
      " 'Will you shop any Black Friday sales on Thanksgiving Day?'\n",
      " 'Do you work in retail?'\n",
      " 'Will you employer make you work on Black Friday?'\n",
      " 'How would you describe where you live?' 'Age' 'What is your gender?'\n",
      " 'How much total combined money did all members of your HOUSEHOLD earn last year?'\n",
      " 'US Region']\n"
     ]
    }
   ],
   "source": [
    "print(data.columns.values)"
   ]
  },
  {
   "cell_type": "code",
   "execution_count": 22,
   "metadata": {
    "collapsed": false
   },
   "outputs": [
    {
     "data": {
      "text/plain": [
       "Yes    980\n",
       "No      78\n",
       "Name: Do you celebrate Thanksgiving?, dtype: int64"
      ]
     },
     "execution_count": 22,
     "metadata": {},
     "output_type": "execute_result"
    }
   ],
   "source": [
    "data[\"Do you celebrate Thanksgiving?\"].value_counts()"
   ]
  },
  {
   "cell_type": "code",
   "execution_count": 23,
   "metadata": {
    "collapsed": false
   },
   "outputs": [],
   "source": [
    "thanksgiving_folk = data[data[\"Do you celebrate Thanksgiving?\"] == \"Yes\"]"
   ]
  },
  {
   "cell_type": "code",
   "execution_count": 24,
   "metadata": {
    "collapsed": false
   },
   "outputs": [
    {
     "data": {
      "text/plain": [
       "Turkey                    859\n",
       "Other (please specify)     35\n",
       "Ham/Pork                   29\n",
       "Tofurkey                   20\n",
       "Chicken                    12\n",
       "Roast beef                 11\n",
       "I don't know                5\n",
       "Turducken                   3\n",
       "Name: What is typically the main dish at your Thanksgiving dinner?, dtype: int64"
      ]
     },
     "execution_count": 24,
     "metadata": {},
     "output_type": "execute_result"
    }
   ],
   "source": [
    "thanksgiving_folk[\"What is typically the main dish at your Thanksgiving dinner?\"].value_counts()"
   ]
  },
  {
   "cell_type": "code",
   "execution_count": 25,
   "metadata": {
    "collapsed": false
   },
   "outputs": [
    {
     "data": {
      "text/plain": [
       "4      Yes\n",
       "33     Yes\n",
       "69      No\n",
       "72      No\n",
       "77     Yes\n",
       "145    Yes\n",
       "175    Yes\n",
       "218     No\n",
       "243    Yes\n",
       "275     No\n",
       "393    Yes\n",
       "399    Yes\n",
       "571    Yes\n",
       "594    Yes\n",
       "628     No\n",
       "774     No\n",
       "820     No\n",
       "837    Yes\n",
       "860     No\n",
       "953    Yes\n",
       "Name: Do you typically have gravy?, dtype: object"
      ]
     },
     "execution_count": 25,
     "metadata": {},
     "output_type": "execute_result"
    }
   ],
   "source": [
    "data[data[\"What is typically the main dish at your Thanksgiving dinner?\"]== \"Tofurkey\"][\"Do you typically have gravy?\"]\n"
   ]
  },
  {
   "cell_type": "code",
   "execution_count": 26,
   "metadata": {
    "collapsed": false
   },
   "outputs": [
    {
     "data": {
      "text/plain": [
       "False    876\n",
       "True     182\n",
       "dtype: int64"
      ]
     },
     "execution_count": 26,
     "metadata": {},
     "output_type": "execute_result"
    }
   ],
   "source": [
    "apple_isnull = pd.isnull(data[\"Which type of pie is typically served at your Thanksgiving dinner? Please select all that apply. - Apple\"])\n",
    "\n",
    "pumpkin_isnull = pd.isnull(data[\"Which type of pie is typically served at your Thanksgiving dinner? Please select all that apply. - Pumpkin\"])\n",
    "\n",
    "pecan_isnull = pd.isnull(data[\"Which type of pie is typically served at your Thanksgiving dinner? Please select all that apply. - Pecan\"])\n",
    "\n",
    "ate_pies = apple_isnull & pumpkin_isnull & pecan_isnull\n",
    "\n",
    "ate_pies.value_counts()"
   ]
  },
  {
   "cell_type": "code",
   "execution_count": 27,
   "metadata": {
    "collapsed": false
   },
   "outputs": [
    {
     "data": {
      "text/plain": [
       "count    1025.000000\n",
       "mean       39.383415\n",
       "std        15.398493\n",
       "min        18.000000\n",
       "25%        30.000000\n",
       "50%        45.000000\n",
       "75%        60.000000\n",
       "max        60.000000\n",
       "Name: int_age, dtype: float64"
      ]
     },
     "execution_count": 27,
     "metadata": {},
     "output_type": "execute_result"
    }
   ],
   "source": [
    "def convert_age_to_int(string):\n",
    "    if(pd.isnull(string)):\n",
    "        return None\n",
    "    string = string.split(\" \")[0]\n",
    "    string = string.replace(\"+\",\"\")\n",
    "    return int(string)\n",
    "        \n",
    "data[\"int_age\"] = data[\"Age\"].apply(convert_age_to_int)\n",
    "\n",
    "data[\"int_age\"].describe()"
   ]
  },
  {
   "cell_type": "markdown",
   "metadata": {},
   "source": [
    "## Is there anything that we should be aware of about the results or our methodology?\n",
    "#### When finding the average age, we were using the low end of a range of values (18 for 18 - 29, 30 for 30 - 44, 45 for 45 - 59, and 60 for 60+) along with not accounting for much higher end values. Our mean could be 10 - 15 years lower than the actual, given that we consistently used the low end of the range of values.\n",
    "\n",
    "## Is this a true depiction of the ages of the survey participants?\n",
    "#### It gives us a rough estimate that the survey was towards the upper 40's and lower 50's age range, with half identifying in the 60 years of age and up. I believe the median would be a better estimate of this case or 1 standard deviation over of 55 years of age."
   ]
  },
  {
   "cell_type": "code",
   "execution_count": 28,
   "metadata": {
    "collapsed": false
   },
   "outputs": [
    {
     "data": {
      "text/plain": [
       "count       889.000000\n",
       "mean      74077.615298\n",
       "std       59360.742902\n",
       "min           0.000000\n",
       "25%       25000.000000\n",
       "50%       50000.000000\n",
       "75%      100000.000000\n",
       "max      200000.000000\n",
       "Name: int_income, dtype: float64"
      ]
     },
     "execution_count": 28,
     "metadata": {},
     "output_type": "execute_result"
    }
   ],
   "source": [
    "def convert_salary_to_int(string):\n",
    "    if(pd.isnull(string)):\n",
    "        return None\n",
    "    string = string.split(\" \")[0]\n",
    "    if(string == \"Prefer\"):\n",
    "        return None\n",
    "    string = string.replace(\"$\",\"\")\n",
    "    string = string.replace(\",\",\"\")\n",
    "    return int(string)\n",
    "        \n",
    "data[\"int_income\"] = data[\"How much total combined money did all members of your HOUSEHOLD earn last year?\"].apply(convert_salary_to_int)\n",
    "\n",
    "data[\"int_income\"].describe()"
   ]
  },
  {
   "cell_type": "markdown",
   "metadata": {},
   "source": [
    "# Is there anything that we should be aware of about the results of our methodology?\n",
    "#### Similar to age, we were using the bottom end of a range, but it appears that the distribution of salary is significantly more balanced. The only discrepency is the standard deviation being very large indicating almost a two peak distribution. \n",
    "\n",
    "# Is this a true depiction of the incomes of survey participants?\n",
    "#### I think what this does is show that majority of the population is toward the high end of the standard deviation in the age range as the salaries are on the high side. Generally, you make more money is you are older and there is a skew right in the amount of money."
   ]
  },
  {
   "cell_type": "code",
   "execution_count": 29,
   "metadata": {
    "collapsed": false
   },
   "outputs": [
    {
     "data": {
      "text/plain": [
       "Thanksgiving is happening at my home--I won't travel at all                         281\n",
       "Thanksgiving is local--it will take place in the town I live in                     203\n",
       "Thanksgiving is out of town but not too far--it's a drive of a few hours or less    150\n",
       "Thanksgiving is out of town and far away--I have to drive several hours or fly       55\n",
       "Name: How far will you travel for Thanksgiving?, dtype: int64"
      ]
     },
     "execution_count": 29,
     "metadata": {},
     "output_type": "execute_result"
    }
   ],
   "source": [
    "less_than_most = data[int_income < 150000]\n",
    "less_than_most[\"How far will you travel for Thanksgiving?\"].value_counts()"
   ]
  },
  {
   "cell_type": "code",
   "execution_count": 30,
   "metadata": {
    "collapsed": false
   },
   "outputs": [
    {
     "data": {
      "text/plain": [
       "Thanksgiving is happening at my home--I won't travel at all                         49\n",
       "Thanksgiving is local--it will take place in the town I live in                     25\n",
       "Thanksgiving is out of town but not too far--it's a drive of a few hours or less    16\n",
       "Thanksgiving is out of town and far away--I have to drive several hours or fly      12\n",
       "Name: How far will you travel for Thanksgiving?, dtype: int64"
      ]
     },
     "execution_count": 30,
     "metadata": {},
     "output_type": "execute_result"
    }
   ],
   "source": [
    "more_than_most = data[int_income > 150000]\n",
    "more_than_most[\"How far will you travel for Thanksgiving?\"].value_counts()"
   ]
  },
  {
   "cell_type": "markdown",
   "metadata": {},
   "source": [
    "## Findings\n",
    "#### It appears that there isn't that much of a significant difference in travel for household incomes over 150,000 vs. under 150,000. It does appear though, if there is long travel, it is significantly more likely that it's someone that makes more than 150,000 than someone that makes less."
   ]
  },
  {
   "cell_type": "code",
   "execution_count": 31,
   "metadata": {
    "collapsed": false
   },
   "outputs": [
    {
     "data": {
      "text/html": [
       "<div>\n",
       "<table border=\"1\" class=\"dataframe\">\n",
       "  <thead>\n",
       "    <tr style=\"text-align: right;\">\n",
       "      <th>Have you ever attended a \"Friendsgiving?\"</th>\n",
       "      <th>No</th>\n",
       "      <th>Yes</th>\n",
       "    </tr>\n",
       "    <tr>\n",
       "      <th>Have you ever tried to meet up with hometown friends on Thanksgiving night?</th>\n",
       "      <th></th>\n",
       "      <th></th>\n",
       "    </tr>\n",
       "  </thead>\n",
       "  <tbody>\n",
       "    <tr>\n",
       "      <th>No</th>\n",
       "      <td>42.283702</td>\n",
       "      <td>37.010526</td>\n",
       "    </tr>\n",
       "    <tr>\n",
       "      <th>Yes</th>\n",
       "      <td>41.475410</td>\n",
       "      <td>33.976744</td>\n",
       "    </tr>\n",
       "  </tbody>\n",
       "</table>\n",
       "</div>"
      ],
      "text/plain": [
       "Have you ever attended a \"Friendsgiving?\"                  No        Yes\n",
       "Have you ever tried to meet up with hometown fr...                      \n",
       "No                                                  42.283702  37.010526\n",
       "Yes                                                 41.475410  33.976744"
      ]
     },
     "execution_count": 31,
     "metadata": {},
     "output_type": "execute_result"
    }
   ],
   "source": [
    "data.pivot_table(\n",
    "    index=\"Have you ever tried to meet up with hometown friends on Thanksgiving night?\", \n",
    "    columns='Have you ever attended a \"Friendsgiving?\"',\n",
    "    values=\"int_age\"\n",
    ")"
   ]
  },
  {
   "cell_type": "code",
   "execution_count": 32,
   "metadata": {
    "collapsed": false
   },
   "outputs": [
    {
     "data": {
      "text/html": [
       "<div>\n",
       "<table border=\"1\" class=\"dataframe\">\n",
       "  <thead>\n",
       "    <tr style=\"text-align: right;\">\n",
       "      <th>Have you ever attended a \"Friendsgiving?\"</th>\n",
       "      <th>No</th>\n",
       "      <th>Yes</th>\n",
       "    </tr>\n",
       "    <tr>\n",
       "      <th>Have you ever tried to meet up with hometown friends on Thanksgiving night?</th>\n",
       "      <th></th>\n",
       "      <th></th>\n",
       "    </tr>\n",
       "  </thead>\n",
       "  <tbody>\n",
       "    <tr>\n",
       "      <th>No</th>\n",
       "      <td>78914.549654</td>\n",
       "      <td>72894.736842</td>\n",
       "    </tr>\n",
       "    <tr>\n",
       "      <th>Yes</th>\n",
       "      <td>78750.000000</td>\n",
       "      <td>66019.736842</td>\n",
       "    </tr>\n",
       "  </tbody>\n",
       "</table>\n",
       "</div>"
      ],
      "text/plain": [
       "Have you ever attended a \"Friendsgiving?\"                     No           Yes\n",
       "Have you ever tried to meet up with hometown fr...                            \n",
       "No                                                  78914.549654  72894.736842\n",
       "Yes                                                 78750.000000  66019.736842"
      ]
     },
     "execution_count": 32,
     "metadata": {},
     "output_type": "execute_result"
    }
   ],
   "source": [
    "import numpy as np\n",
    "data.pivot_table(\n",
    "    index=\"Have you ever tried to meet up with hometown friends on Thanksgiving night?\", \n",
    "    columns='Have you ever attended a \"Friendsgiving?\"',\n",
    "    values=\"int_income\",\n",
    "    aggfunc = np.mean\n",
    ")"
   ]
  },
  {
   "cell_type": "markdown",
   "metadata": {},
   "source": [
    "# Findings\n",
    "#### It appears those with lower income are more likely to have a \"Friendsgiving\". As stated in previous findings, it appears more likely that older people tend to make more money than younger as in individuals 45 and older make more money than those that are less than 45. This cues us to believe that the celebration of \"Friendsgiving\" is more likely to occur with young people or people that make less than 73,000 dollars."
   ]
  },
  {
   "cell_type": "code",
   "execution_count": null,
   "metadata": {
    "collapsed": true
   },
   "outputs": [],
   "source": []
  }
 ],
 "metadata": {
  "kernelspec": {
   "display_name": "Python 3",
   "language": "python",
   "name": "python3"
  },
  "language_info": {
   "codemirror_mode": {
    "name": "ipython",
    "version": 3
   },
   "file_extension": ".py",
   "mimetype": "text/x-python",
   "name": "python",
   "nbconvert_exporter": "python",
   "pygments_lexer": "ipython3",
   "version": "3.4.3"
  }
 },
 "nbformat": 4,
 "nbformat_minor": 0
}
